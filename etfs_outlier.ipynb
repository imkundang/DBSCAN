{
 "cells": [
  {
   "cell_type": "code",
   "execution_count": 1,
   "metadata": {},
   "outputs": [],
   "source": [
    "import pandas as pd"
   ]
  },
  {
   "cell_type": "code",
   "execution_count": 2,
   "metadata": {},
   "outputs": [],
   "source": [
    "df=pd.read_csv('ETFs.csv')"
   ]
  },
  {
   "cell_type": "code",
   "execution_count": 8,
   "metadata": {},
   "outputs": [
    {
     "data": {
      "text/plain": [
       "(2352, 104)"
      ]
     },
     "execution_count": 8,
     "metadata": {},
     "output_type": "execute_result"
    }
   ],
   "source": [
    "df.shape"
   ]
  },
  {
   "cell_type": "code",
   "execution_count": 13,
   "metadata": {},
   "outputs": [
    {
     "data": {
      "text/plain": [
       "['fund_name',\n",
       " 'fund_extended_name',\n",
       " 'category',\n",
       " 'fund_family',\n",
       " 'net_assets',\n",
       " 'ytd_return',\n",
       " 'fund_yield',\n",
       " 'legal_type',\n",
       " 'investment',\n",
       " 'size',\n",
       " 'currency',\n",
       " 'net_annual_expense_ratio_fund',\n",
       " 'net_annual_expense_ratio_category',\n",
       " 'portfolio_stocks',\n",
       " 'portfolio_bonds',\n",
       " 'price_earnings',\n",
       " 'price_book',\n",
       " 'price_sales',\n",
       " 'price_cashflow',\n",
       " 'basic_materials',\n",
       " 'consumer_cyclical',\n",
       " 'financial_services',\n",
       " 'real_estate',\n",
       " 'consumer_defensive',\n",
       " 'healthcare',\n",
       " 'utilities',\n",
       " 'communication_services',\n",
       " 'energy',\n",
       " 'industrials',\n",
       " 'technology',\n",
       " 'rating_us_government',\n",
       " 'rating_aaa',\n",
       " 'rating_aa',\n",
       " 'rating_a',\n",
       " 'rating_bbb',\n",
       " 'rating_bb',\n",
       " 'rating_b',\n",
       " 'rating_below_b',\n",
       " 'rating_others',\n",
       " 'fund_return_ytd',\n",
       " 'category_return_ytd',\n",
       " 'fund_return_1month',\n",
       " 'category_return_1month',\n",
       " 'fund_return_3months',\n",
       " 'category_return_3months',\n",
       " 'fund_return_1year',\n",
       " 'category_return_1year',\n",
       " 'fund_return_3years',\n",
       " 'category_return_3years',\n",
       " 'fund_return_5years',\n",
       " 'category_return_5years',\n",
       " 'fund_return_10years',\n",
       " 'category_return_10years',\n",
       " 'fund_return_2018',\n",
       " 'fund_return_2017',\n",
       " 'fund_return_2016',\n",
       " 'fund_return_2015',\n",
       " 'fund_return_2014',\n",
       " 'fund_return_2013',\n",
       " 'fund_return_2012',\n",
       " 'fund_return_2011',\n",
       " 'fund_return_2010',\n",
       " 'fund_alpha_3years',\n",
       " 'category_alpha_3years',\n",
       " 'fund_alpha_5years',\n",
       " 'category_alpha_5years',\n",
       " 'fund_alpha_10years',\n",
       " 'category_alpha_10years',\n",
       " 'fund_beta_3years',\n",
       " 'category_beta_3years',\n",
       " 'fund_beta_5years',\n",
       " 'category_beta_5years',\n",
       " 'fund_beta_10years',\n",
       " 'category_beta_10years',\n",
       " 'fund_mean_annual_return_3years',\n",
       " 'category_mean_annual_return_3years',\n",
       " 'fund_mean_annual_return_5years',\n",
       " 'category_mean_annual_return_5years',\n",
       " 'fund_mean_annual_return_10years',\n",
       " 'category_mean_annual_return_10years',\n",
       " 'fund_r_squared_3years',\n",
       " 'category_r_squared_3years',\n",
       " 'fund_r_squared_5years',\n",
       " 'category_r_squared_5years',\n",
       " 'fund_r_squared_10years',\n",
       " 'category_r_squared_10years',\n",
       " 'fund_standard_deviation_3years',\n",
       " 'category_standard_deviation_3years',\n",
       " 'fund_standard_deviation_5years',\n",
       " 'category_standard_deviation_5years',\n",
       " 'fund_standard_deviation_10years',\n",
       " 'category_standard_deviation_10years',\n",
       " 'fund_sharpe_ratio_3years',\n",
       " 'category_sharpe_ratio_3years',\n",
       " 'fund_sharpe_ratio_5years',\n",
       " 'category_sharpe_ratio_5years',\n",
       " 'fund_sharpe_ratio_10years',\n",
       " 'category_sharpe_ratio_10years',\n",
       " 'fund_treynor_ratio_3years',\n",
       " 'category_treynor_ratio_3years',\n",
       " 'fund_treynor_ratio_5years',\n",
       " 'category_treynor_ratio_5years',\n",
       " 'fund_treynor_ratio_10years',\n",
       " 'category_treynor_ratio_10years']"
      ]
     },
     "execution_count": 13,
     "metadata": {},
     "output_type": "execute_result"
    }
   ],
   "source": [
    "df.columns.tolist()"
   ]
  },
  {
   "cell_type": "code",
   "execution_count": 15,
   "metadata": {},
   "outputs": [
    {
     "data": {
      "text/plain": [
       "fund_name                               object\n",
       "fund_extended_name                      object\n",
       "category                                object\n",
       "fund_family                             object\n",
       "net_assets                             float64\n",
       "ytd_return                             float64\n",
       "fund_yield                             float64\n",
       "legal_type                              object\n",
       "investment                              object\n",
       "size                                    object\n",
       "currency                                object\n",
       "net_annual_expense_ratio_fund          float64\n",
       "net_annual_expense_ratio_category      float64\n",
       "portfolio_stocks                       float64\n",
       "portfolio_bonds                        float64\n",
       "price_earnings                         float64\n",
       "price_book                             float64\n",
       "price_sales                            float64\n",
       "price_cashflow                         float64\n",
       "basic_materials                        float64\n",
       "consumer_cyclical                      float64\n",
       "financial_services                     float64\n",
       "real_estate                            float64\n",
       "consumer_defensive                     float64\n",
       "healthcare                             float64\n",
       "utilities                              float64\n",
       "communication_services                 float64\n",
       "energy                                 float64\n",
       "industrials                            float64\n",
       "technology                             float64\n",
       "                                        ...   \n",
       "fund_mean_annual_return_3years         float64\n",
       "category_mean_annual_return_3years     float64\n",
       "fund_mean_annual_return_5years         float64\n",
       "category_mean_annual_return_5years     float64\n",
       "fund_mean_annual_return_10years        float64\n",
       "category_mean_annual_return_10years    float64\n",
       "fund_r_squared_3years                  float64\n",
       "category_r_squared_3years              float64\n",
       "fund_r_squared_5years                  float64\n",
       "category_r_squared_5years              float64\n",
       "fund_r_squared_10years                 float64\n",
       "category_r_squared_10years             float64\n",
       "fund_standard_deviation_3years         float64\n",
       "category_standard_deviation_3years     float64\n",
       "fund_standard_deviation_5years         float64\n",
       "category_standard_deviation_5years     float64\n",
       "fund_standard_deviation_10years        float64\n",
       "category_standard_deviation_10years    float64\n",
       "fund_sharpe_ratio_3years               float64\n",
       "category_sharpe_ratio_3years           float64\n",
       "fund_sharpe_ratio_5years               float64\n",
       "category_sharpe_ratio_5years           float64\n",
       "fund_sharpe_ratio_10years              float64\n",
       "category_sharpe_ratio_10years          float64\n",
       "fund_treynor_ratio_3years               object\n",
       "category_treynor_ratio_3years          float64\n",
       "fund_treynor_ratio_5years              float64\n",
       "category_treynor_ratio_5years           object\n",
       "fund_treynor_ratio_10years             float64\n",
       "category_treynor_ratio_10years         float64\n",
       "Length: 104, dtype: object"
      ]
     },
     "execution_count": 15,
     "metadata": {},
     "output_type": "execute_result"
    }
   ],
   "source": [
    "df.dtypes"
   ]
  },
  {
   "cell_type": "code",
   "execution_count": 17,
   "metadata": {},
   "outputs": [],
   "source": [
    "df_quant=df.select_dtypes(include=['float64'])"
   ]
  },
  {
   "cell_type": "code",
   "execution_count": 19,
   "metadata": {},
   "outputs": [
    {
     "data": {
      "text/html": [
       "<div>\n",
       "<style scoped>\n",
       "    .dataframe tbody tr th:only-of-type {\n",
       "        vertical-align: middle;\n",
       "    }\n",
       "\n",
       "    .dataframe tbody tr th {\n",
       "        vertical-align: top;\n",
       "    }\n",
       "\n",
       "    .dataframe thead th {\n",
       "        text-align: right;\n",
       "    }\n",
       "</style>\n",
       "<table border=\"1\" class=\"dataframe\">\n",
       "  <thead>\n",
       "    <tr style=\"text-align: right;\">\n",
       "      <th></th>\n",
       "      <th>net_assets</th>\n",
       "      <th>ytd_return</th>\n",
       "      <th>fund_yield</th>\n",
       "      <th>net_annual_expense_ratio_fund</th>\n",
       "      <th>net_annual_expense_ratio_category</th>\n",
       "      <th>portfolio_stocks</th>\n",
       "      <th>portfolio_bonds</th>\n",
       "      <th>price_earnings</th>\n",
       "      <th>price_book</th>\n",
       "      <th>price_sales</th>\n",
       "      <th>...</th>\n",
       "      <th>fund_sharpe_ratio_3years</th>\n",
       "      <th>category_sharpe_ratio_3years</th>\n",
       "      <th>fund_sharpe_ratio_5years</th>\n",
       "      <th>category_sharpe_ratio_5years</th>\n",
       "      <th>fund_sharpe_ratio_10years</th>\n",
       "      <th>category_sharpe_ratio_10years</th>\n",
       "      <th>category_treynor_ratio_3years</th>\n",
       "      <th>fund_treynor_ratio_5years</th>\n",
       "      <th>fund_treynor_ratio_10years</th>\n",
       "      <th>category_treynor_ratio_10years</th>\n",
       "    </tr>\n",
       "  </thead>\n",
       "  <tbody>\n",
       "    <tr>\n",
       "      <th>0</th>\n",
       "      <td>4.010000e+12</td>\n",
       "      <td>NaN</td>\n",
       "      <td>1.84</td>\n",
       "      <td>0.00</td>\n",
       "      <td>NaN</td>\n",
       "      <td>100.00</td>\n",
       "      <td>0.0</td>\n",
       "      <td>12.92</td>\n",
       "      <td>1.18</td>\n",
       "      <td>0.81</td>\n",
       "      <td>...</td>\n",
       "      <td>0.34</td>\n",
       "      <td>NaN</td>\n",
       "      <td>0.59</td>\n",
       "      <td>NaN</td>\n",
       "      <td>0.60</td>\n",
       "      <td>NaN</td>\n",
       "      <td>NaN</td>\n",
       "      <td>8.01</td>\n",
       "      <td>9.29</td>\n",
       "      <td>NaN</td>\n",
       "    </tr>\n",
       "    <tr>\n",
       "      <th>1</th>\n",
       "      <td>8.430000e+12</td>\n",
       "      <td>NaN</td>\n",
       "      <td>1.77</td>\n",
       "      <td>0.05</td>\n",
       "      <td>NaN</td>\n",
       "      <td>99.99</td>\n",
       "      <td>0.0</td>\n",
       "      <td>12.92</td>\n",
       "      <td>1.18</td>\n",
       "      <td>0.81</td>\n",
       "      <td>...</td>\n",
       "      <td>0.34</td>\n",
       "      <td>NaN</td>\n",
       "      <td>0.59</td>\n",
       "      <td>NaN</td>\n",
       "      <td>0.61</td>\n",
       "      <td>NaN</td>\n",
       "      <td>NaN</td>\n",
       "      <td>8.03</td>\n",
       "      <td>9.33</td>\n",
       "      <td>NaN</td>\n",
       "    </tr>\n",
       "    <tr>\n",
       "      <th>2</th>\n",
       "      <td>3.730000e+12</td>\n",
       "      <td>NaN</td>\n",
       "      <td>1.84</td>\n",
       "      <td>0.00</td>\n",
       "      <td>NaN</td>\n",
       "      <td>99.08</td>\n",
       "      <td>0.0</td>\n",
       "      <td>12.92</td>\n",
       "      <td>1.18</td>\n",
       "      <td>0.81</td>\n",
       "      <td>...</td>\n",
       "      <td>0.34</td>\n",
       "      <td>NaN</td>\n",
       "      <td>0.59</td>\n",
       "      <td>NaN</td>\n",
       "      <td>0.60</td>\n",
       "      <td>NaN</td>\n",
       "      <td>NaN</td>\n",
       "      <td>8.03</td>\n",
       "      <td>9.31</td>\n",
       "      <td>NaN</td>\n",
       "    </tr>\n",
       "    <tr>\n",
       "      <th>3</th>\n",
       "      <td>4.450000e+09</td>\n",
       "      <td>NaN</td>\n",
       "      <td>0.00</td>\n",
       "      <td>0.00</td>\n",
       "      <td>NaN</td>\n",
       "      <td>18.57</td>\n",
       "      <td>0.0</td>\n",
       "      <td>12.09</td>\n",
       "      <td>1.01</td>\n",
       "      <td>0.56</td>\n",
       "      <td>...</td>\n",
       "      <td>-0.09</td>\n",
       "      <td>NaN</td>\n",
       "      <td>0.36</td>\n",
       "      <td>NaN</td>\n",
       "      <td>0.26</td>\n",
       "      <td>NaN</td>\n",
       "      <td>NaN</td>\n",
       "      <td>6.32</td>\n",
       "      <td>4.29</td>\n",
       "      <td>NaN</td>\n",
       "    </tr>\n",
       "    <tr>\n",
       "      <th>4</th>\n",
       "      <td>1.920000e+09</td>\n",
       "      <td>NaN</td>\n",
       "      <td>2.57</td>\n",
       "      <td>0.00</td>\n",
       "      <td>NaN</td>\n",
       "      <td>100.00</td>\n",
       "      <td>0.0</td>\n",
       "      <td>11.34</td>\n",
       "      <td>1.12</td>\n",
       "      <td>1.07</td>\n",
       "      <td>...</td>\n",
       "      <td>0.14</td>\n",
       "      <td>NaN</td>\n",
       "      <td>0.34</td>\n",
       "      <td>NaN</td>\n",
       "      <td>0.44</td>\n",
       "      <td>NaN</td>\n",
       "      <td>NaN</td>\n",
       "      <td>4.08</td>\n",
       "      <td>6.18</td>\n",
       "      <td>NaN</td>\n",
       "    </tr>\n",
       "  </tbody>\n",
       "</table>\n",
       "<p>5 rows × 94 columns</p>\n",
       "</div>"
      ],
      "text/plain": [
       "     net_assets  ytd_return  fund_yield  net_annual_expense_ratio_fund  \\\n",
       "0  4.010000e+12         NaN        1.84                           0.00   \n",
       "1  8.430000e+12         NaN        1.77                           0.05   \n",
       "2  3.730000e+12         NaN        1.84                           0.00   \n",
       "3  4.450000e+09         NaN        0.00                           0.00   \n",
       "4  1.920000e+09         NaN        2.57                           0.00   \n",
       "\n",
       "   net_annual_expense_ratio_category  portfolio_stocks  portfolio_bonds  \\\n",
       "0                                NaN            100.00              0.0   \n",
       "1                                NaN             99.99              0.0   \n",
       "2                                NaN             99.08              0.0   \n",
       "3                                NaN             18.57              0.0   \n",
       "4                                NaN            100.00              0.0   \n",
       "\n",
       "   price_earnings  price_book  price_sales               ...                \\\n",
       "0           12.92        1.18         0.81               ...                 \n",
       "1           12.92        1.18         0.81               ...                 \n",
       "2           12.92        1.18         0.81               ...                 \n",
       "3           12.09        1.01         0.56               ...                 \n",
       "4           11.34        1.12         1.07               ...                 \n",
       "\n",
       "   fund_sharpe_ratio_3years  category_sharpe_ratio_3years  \\\n",
       "0                      0.34                           NaN   \n",
       "1                      0.34                           NaN   \n",
       "2                      0.34                           NaN   \n",
       "3                     -0.09                           NaN   \n",
       "4                      0.14                           NaN   \n",
       "\n",
       "   fund_sharpe_ratio_5years  category_sharpe_ratio_5years  \\\n",
       "0                      0.59                           NaN   \n",
       "1                      0.59                           NaN   \n",
       "2                      0.59                           NaN   \n",
       "3                      0.36                           NaN   \n",
       "4                      0.34                           NaN   \n",
       "\n",
       "   fund_sharpe_ratio_10years  category_sharpe_ratio_10years  \\\n",
       "0                       0.60                            NaN   \n",
       "1                       0.61                            NaN   \n",
       "2                       0.60                            NaN   \n",
       "3                       0.26                            NaN   \n",
       "4                       0.44                            NaN   \n",
       "\n",
       "   category_treynor_ratio_3years  fund_treynor_ratio_5years  \\\n",
       "0                            NaN                       8.01   \n",
       "1                            NaN                       8.03   \n",
       "2                            NaN                       8.03   \n",
       "3                            NaN                       6.32   \n",
       "4                            NaN                       4.08   \n",
       "\n",
       "   fund_treynor_ratio_10years  category_treynor_ratio_10years  \n",
       "0                        9.29                             NaN  \n",
       "1                        9.33                             NaN  \n",
       "2                        9.31                             NaN  \n",
       "3                        4.29                             NaN  \n",
       "4                        6.18                             NaN  \n",
       "\n",
       "[5 rows x 94 columns]"
      ]
     },
     "execution_count": 19,
     "metadata": {},
     "output_type": "execute_result"
    }
   ],
   "source": [
    "df_quant.head()"
   ]
  },
  {
   "cell_type": "code",
   "execution_count": 20,
   "metadata": {},
   "outputs": [
    {
     "data": {
      "text/plain": [
       "(2352, 94)"
      ]
     },
     "execution_count": 20,
     "metadata": {},
     "output_type": "execute_result"
    }
   ],
   "source": [
    "df_quant.shape"
   ]
  },
  {
   "cell_type": "code",
   "execution_count": 3,
   "metadata": {},
   "outputs": [
    {
     "data": {
      "text/html": [
       "<div>\n",
       "<style scoped>\n",
       "    .dataframe tbody tr th:only-of-type {\n",
       "        vertical-align: middle;\n",
       "    }\n",
       "\n",
       "    .dataframe tbody tr th {\n",
       "        vertical-align: top;\n",
       "    }\n",
       "\n",
       "    .dataframe thead th {\n",
       "        text-align: right;\n",
       "    }\n",
       "</style>\n",
       "<table border=\"1\" class=\"dataframe\">\n",
       "  <thead>\n",
       "    <tr style=\"text-align: right;\">\n",
       "      <th></th>\n",
       "      <th>fund_name</th>\n",
       "      <th>fund_extended_name</th>\n",
       "      <th>category</th>\n",
       "      <th>fund_family</th>\n",
       "      <th>net_assets</th>\n",
       "      <th>ytd_return</th>\n",
       "      <th>fund_yield</th>\n",
       "      <th>legal_type</th>\n",
       "      <th>investment</th>\n",
       "      <th>size</th>\n",
       "      <th>...</th>\n",
       "      <th>fund_sharpe_ratio_5years</th>\n",
       "      <th>category_sharpe_ratio_5years</th>\n",
       "      <th>fund_sharpe_ratio_10years</th>\n",
       "      <th>category_sharpe_ratio_10years</th>\n",
       "      <th>fund_treynor_ratio_3years</th>\n",
       "      <th>category_treynor_ratio_3years</th>\n",
       "      <th>fund_treynor_ratio_5years</th>\n",
       "      <th>category_treynor_ratio_5years</th>\n",
       "      <th>fund_treynor_ratio_10years</th>\n",
       "      <th>category_treynor_ratio_10years</th>\n",
       "    </tr>\n",
       "  </thead>\n",
       "  <tbody>\n",
       "    <tr>\n",
       "      <th>0</th>\n",
       "      <td>1305</td>\n",
       "      <td>Daiwa ETF TOPIX</td>\n",
       "      <td>NaN</td>\n",
       "      <td>Daiwa Asset Management Co Ltd</td>\n",
       "      <td>4.010000e+12</td>\n",
       "      <td>NaN</td>\n",
       "      <td>1.84</td>\n",
       "      <td>Exchange Traded Fund</td>\n",
       "      <td>Blend</td>\n",
       "      <td>Large</td>\n",
       "      <td>...</td>\n",
       "      <td>0.59</td>\n",
       "      <td>NaN</td>\n",
       "      <td>0.60</td>\n",
       "      <td>NaN</td>\n",
       "      <td>3.92</td>\n",
       "      <td>NaN</td>\n",
       "      <td>8.01</td>\n",
       "      <td>NaN</td>\n",
       "      <td>9.29</td>\n",
       "      <td>NaN</td>\n",
       "    </tr>\n",
       "    <tr>\n",
       "      <th>1</th>\n",
       "      <td>1306</td>\n",
       "      <td>Nomura TOPIX ETF</td>\n",
       "      <td>NaN</td>\n",
       "      <td>Nomura Asset Management Co Ltd</td>\n",
       "      <td>8.430000e+12</td>\n",
       "      <td>NaN</td>\n",
       "      <td>1.77</td>\n",
       "      <td>Exchange Traded Fund</td>\n",
       "      <td>Blend</td>\n",
       "      <td>Large</td>\n",
       "      <td>...</td>\n",
       "      <td>0.59</td>\n",
       "      <td>NaN</td>\n",
       "      <td>0.61</td>\n",
       "      <td>NaN</td>\n",
       "      <td>3.94</td>\n",
       "      <td>NaN</td>\n",
       "      <td>8.03</td>\n",
       "      <td>NaN</td>\n",
       "      <td>9.33</td>\n",
       "      <td>NaN</td>\n",
       "    </tr>\n",
       "    <tr>\n",
       "      <th>2</th>\n",
       "      <td>1308</td>\n",
       "      <td>Nikko Exchange Traded Index TOPIX</td>\n",
       "      <td>NaN</td>\n",
       "      <td>Nikko Asset Management Co Ltd</td>\n",
       "      <td>3.730000e+12</td>\n",
       "      <td>NaN</td>\n",
       "      <td>1.84</td>\n",
       "      <td>Exchange Traded Fund</td>\n",
       "      <td>Blend</td>\n",
       "      <td>Large</td>\n",
       "      <td>...</td>\n",
       "      <td>0.59</td>\n",
       "      <td>NaN</td>\n",
       "      <td>0.60</td>\n",
       "      <td>NaN</td>\n",
       "      <td>3.93</td>\n",
       "      <td>NaN</td>\n",
       "      <td>8.03</td>\n",
       "      <td>NaN</td>\n",
       "      <td>9.31</td>\n",
       "      <td>NaN</td>\n",
       "    </tr>\n",
       "    <tr>\n",
       "      <th>3</th>\n",
       "      <td>1309</td>\n",
       "      <td>Nomura SSE50 Index Link ETF</td>\n",
       "      <td>NaN</td>\n",
       "      <td>Nomura Asset Management Co Ltd</td>\n",
       "      <td>4.450000e+09</td>\n",
       "      <td>NaN</td>\n",
       "      <td>0.00</td>\n",
       "      <td>Exchange Traded Fund</td>\n",
       "      <td>Value</td>\n",
       "      <td>Large</td>\n",
       "      <td>...</td>\n",
       "      <td>0.36</td>\n",
       "      <td>NaN</td>\n",
       "      <td>0.26</td>\n",
       "      <td>NaN</td>\n",
       "      <td>-4.41</td>\n",
       "      <td>NaN</td>\n",
       "      <td>6.32</td>\n",
       "      <td>NaN</td>\n",
       "      <td>4.29</td>\n",
       "      <td>NaN</td>\n",
       "    </tr>\n",
       "    <tr>\n",
       "      <th>4</th>\n",
       "      <td>1310</td>\n",
       "      <td>Daiwa ETF TOPIX Core 30</td>\n",
       "      <td>NaN</td>\n",
       "      <td>Daiwa Asset Management Co Ltd</td>\n",
       "      <td>1.920000e+09</td>\n",
       "      <td>NaN</td>\n",
       "      <td>2.57</td>\n",
       "      <td>Exchange Traded Fund</td>\n",
       "      <td>Blend</td>\n",
       "      <td>Large</td>\n",
       "      <td>...</td>\n",
       "      <td>0.34</td>\n",
       "      <td>NaN</td>\n",
       "      <td>0.44</td>\n",
       "      <td>NaN</td>\n",
       "      <td>1</td>\n",
       "      <td>NaN</td>\n",
       "      <td>4.08</td>\n",
       "      <td>NaN</td>\n",
       "      <td>6.18</td>\n",
       "      <td>NaN</td>\n",
       "    </tr>\n",
       "  </tbody>\n",
       "</table>\n",
       "<p>5 rows × 104 columns</p>\n",
       "</div>"
      ],
      "text/plain": [
       "  fund_name                 fund_extended_name category  \\\n",
       "0      1305                    Daiwa ETF TOPIX      NaN   \n",
       "1      1306                   Nomura TOPIX ETF      NaN   \n",
       "2      1308  Nikko Exchange Traded Index TOPIX      NaN   \n",
       "3      1309        Nomura SSE50 Index Link ETF      NaN   \n",
       "4      1310            Daiwa ETF TOPIX Core 30      NaN   \n",
       "\n",
       "                      fund_family    net_assets  ytd_return  fund_yield  \\\n",
       "0   Daiwa Asset Management Co Ltd  4.010000e+12         NaN        1.84   \n",
       "1  Nomura Asset Management Co Ltd  8.430000e+12         NaN        1.77   \n",
       "2   Nikko Asset Management Co Ltd  3.730000e+12         NaN        1.84   \n",
       "3  Nomura Asset Management Co Ltd  4.450000e+09         NaN        0.00   \n",
       "4   Daiwa Asset Management Co Ltd  1.920000e+09         NaN        2.57   \n",
       "\n",
       "             legal_type investment   size               ...                \\\n",
       "0  Exchange Traded Fund      Blend  Large               ...                 \n",
       "1  Exchange Traded Fund      Blend  Large               ...                 \n",
       "2  Exchange Traded Fund      Blend  Large               ...                 \n",
       "3  Exchange Traded Fund      Value  Large               ...                 \n",
       "4  Exchange Traded Fund      Blend  Large               ...                 \n",
       "\n",
       "  fund_sharpe_ratio_5years  category_sharpe_ratio_5years  \\\n",
       "0                     0.59                           NaN   \n",
       "1                     0.59                           NaN   \n",
       "2                     0.59                           NaN   \n",
       "3                     0.36                           NaN   \n",
       "4                     0.34                           NaN   \n",
       "\n",
       "   fund_sharpe_ratio_10years  category_sharpe_ratio_10years  \\\n",
       "0                       0.60                            NaN   \n",
       "1                       0.61                            NaN   \n",
       "2                       0.60                            NaN   \n",
       "3                       0.26                            NaN   \n",
       "4                       0.44                            NaN   \n",
       "\n",
       "   fund_treynor_ratio_3years  category_treynor_ratio_3years  \\\n",
       "0                       3.92                            NaN   \n",
       "1                       3.94                            NaN   \n",
       "2                       3.93                            NaN   \n",
       "3                      -4.41                            NaN   \n",
       "4                          1                            NaN   \n",
       "\n",
       "   fund_treynor_ratio_5years  category_treynor_ratio_5years  \\\n",
       "0                       8.01                            NaN   \n",
       "1                       8.03                            NaN   \n",
       "2                       8.03                            NaN   \n",
       "3                       6.32                            NaN   \n",
       "4                       4.08                            NaN   \n",
       "\n",
       "   fund_treynor_ratio_10years  category_treynor_ratio_10years  \n",
       "0                        9.29                             NaN  \n",
       "1                        9.33                             NaN  \n",
       "2                        9.31                             NaN  \n",
       "3                        4.29                             NaN  \n",
       "4                        6.18                             NaN  \n",
       "\n",
       "[5 rows x 104 columns]"
      ]
     },
     "execution_count": 3,
     "metadata": {},
     "output_type": "execute_result"
    }
   ],
   "source": [
    "df.head()"
   ]
  },
  {
   "cell_type": "code",
   "execution_count": 5,
   "metadata": {},
   "outputs": [],
   "source": [
    "df_subset=df.dropna()"
   ]
  },
  {
   "cell_type": "code",
   "execution_count": 9,
   "metadata": {},
   "outputs": [
    {
     "data": {
      "text/plain": [
       "(361, 104)"
      ]
     },
     "execution_count": 9,
     "metadata": {},
     "output_type": "execute_result"
    }
   ],
   "source": [
    "df_subset.shape"
   ]
  },
  {
   "cell_type": "code",
   "execution_count": 22,
   "metadata": {},
   "outputs": [],
   "source": [
    "df_quant_non_na=df_quant.dropna()"
   ]
  },
  {
   "cell_type": "code",
   "execution_count": 23,
   "metadata": {},
   "outputs": [
    {
     "data": {
      "text/plain": [
       "(425, 94)"
      ]
     },
     "execution_count": 23,
     "metadata": {},
     "output_type": "execute_result"
    }
   ],
   "source": [
    "df_quant_non_na.shape"
   ]
  },
  {
   "cell_type": "code",
   "execution_count": 28,
   "metadata": {},
   "outputs": [],
   "source": [
    "df=df_quant_non_na"
   ]
  },
  {
   "cell_type": "code",
   "execution_count": 29,
   "metadata": {},
   "outputs": [
    {
     "data": {
      "text/plain": [
       "(425, 94)"
      ]
     },
     "execution_count": 29,
     "metadata": {},
     "output_type": "execute_result"
    }
   ],
   "source": [
    "df.shape"
   ]
  },
  {
   "cell_type": "code",
   "execution_count": null,
   "metadata": {},
   "outputs": [],
   "source": []
  },
  {
   "cell_type": "code",
   "execution_count": 30,
   "metadata": {},
   "outputs": [],
   "source": [
    "from sklearn.ensemble import IsolationForest "
   ]
  },
  {
   "cell_type": "code",
   "execution_count": 27,
   "metadata": {},
   "outputs": [],
   "source": [
    "clf=IsolationForest(n_estimators=100, max_samples='auto')"
   ]
  },
  {
   "cell_type": "code",
   "execution_count": 31,
   "metadata": {},
   "outputs": [
    {
     "name": "stderr",
     "output_type": "stream",
     "text": [
      "C:\\Users\\satish\\Anaconda3\\lib\\site-packages\\scipy\\stats\\stats.py:1713: FutureWarning: Using a non-tuple sequence for multidimensional indexing is deprecated; use `arr[tuple(seq)]` instead of `arr[seq]`. In the future this will be interpreted as an array index, `arr[np.array(seq)]`, which will result either in an error or a different result.\n",
      "  return np.add.reduce(sorted[indexer] * weights, axis=axis) / sumval\n"
     ]
    }
   ],
   "source": [
    "clf.fit(df)\n",
    "pred=clf.predict(df)"
   ]
  },
  {
   "cell_type": "code",
   "execution_count": 32,
   "metadata": {},
   "outputs": [
    {
     "name": "stdout",
     "output_type": "stream",
     "text": [
      "[ 1  1  1  1  1  1  1  1  1  1  1  1  1  1  1 -1 -1  1  1  1  1 -1  1  1\n",
      "  1  1  1  1  1 -1 -1  1 -1 -1  1  1  1  1  1  1  1  1  1  1  1  1  1 -1\n",
      "  1  1  1  1  1  1  1  1  1  1  1  1  1  1  1 -1  1  1  1  1  1  1  1  1\n",
      " -1  1  1  1  1  1  1  1  1  1  1 -1  1  1  1  1  1  1  1 -1  1  1  1  1\n",
      "  1  1  1  1  1  1  1  1  1  1  1  1  1  1  1  1  1  1  1  1  1  1  1  1\n",
      "  1 -1 -1 -1  1  1  1 -1 -1 -1  1  1  1  1  1  1  1  1  1  1  1  1  1  1\n",
      "  1  1  1  1  1 -1  1  1  1  1  1  1 -1  1  1  1  1  1  1  1  1  1  1  1\n",
      "  1  1  1  1  1  1  1  1  1  1  1  1  1  1  1  1  1  1  1  1  1  1  1  1\n",
      "  1  1  1  1  1  1  1  1  1  1  1  1  1  1  1  1  1  1  1  1  1  1  1  1\n",
      "  1  1  1  1  1  1 -1  1  1  1  1  1  1  1  1  1  1  1  1 -1  1  1  1  1\n",
      "  1  1  1  1  1  1  1  1  1  1  1  1  1  1  1  1  1  1  1  1  1  1 -1  1\n",
      "  1  1  1  1  1  1  1  1  1  1  1  1  1 -1  1  1  1  1  1  1  1  1  1  1\n",
      "  1  1  1  1  1  1  1  1  1  1  1  1 -1  1  1  1  1  1  1  1  1  1  1  1\n",
      "  1  1  1  1  1  1  1  1  1  1  1  1  1  1  1  1 -1 -1 -1  1  1  1  1  1\n",
      "  1  1  1  1 -1  1  1  1  1  1  1  1  1  1  1  1  1  1 -1  1  1  1  1  1\n",
      " -1 -1 -1 -1  1 -1 -1  1 -1 -1  1  1  1  1  1  1  1  1  1  1  1  1 -1 -1\n",
      "  1  1  1  1  1  1  1  1  1  1  1  1  1  1  1  1  1  1  1  1  1  1  1 -1\n",
      "  1  1  1  1  1  1  1  1  1 -1  1  1  1  1  1  1 -1]\n"
     ]
    }
   ],
   "source": [
    "print(pred)"
   ]
  },
  {
   "cell_type": "code",
   "execution_count": 36,
   "metadata": {},
   "outputs": [
    {
     "name": "stderr",
     "output_type": "stream",
     "text": [
      "C:\\Users\\satish\\Anaconda3\\lib\\site-packages\\ipykernel_launcher.py:1: SettingWithCopyWarning: \n",
      "A value is trying to be set on a copy of a slice from a DataFrame.\n",
      "Try using .loc[row_indexer,col_indexer] = value instead\n",
      "\n",
      "See the caveats in the documentation: http://pandas.pydata.org/pandas-docs/stable/indexing.html#indexing-view-versus-copy\n",
      "  \"\"\"Entry point for launching an IPython kernel.\n"
     ]
    }
   ],
   "source": [
    "df['anomaly']=pred\n",
    "outliers=df.loc[df['anomaly']==-1]"
   ]
  },
  {
   "cell_type": "code",
   "execution_count": 41,
   "metadata": {},
   "outputs": [
    {
     "name": "stdout",
     "output_type": "stream",
     "text": [
      " 1    382\n",
      "-1     43\n",
      "Name: anomaly, dtype: int64\n"
     ]
    }
   ],
   "source": [
    "print(df['anomaly'].value_counts())"
   ]
  },
  {
   "cell_type": "code",
   "execution_count": 42,
   "metadata": {},
   "outputs": [],
   "source": [
    "import pandas as pd\n",
    "import seaborn as sb\n",
    "from pylab import rcParams\n",
    "import matplotlib.pyplot as plt"
   ]
  },
  {
   "cell_type": "code",
   "execution_count": 44,
   "metadata": {},
   "outputs": [
    {
     "data": {
      "text/plain": [
       "Text(0.5,1,'Isolation Forest for outliers')"
      ]
     },
     "execution_count": 44,
     "metadata": {},
     "output_type": "execute_result"
    },
    {
     "data": {
      "image/png": "[encoded data removed]",
      "text/plain": [
       "<Figure size 432x288 with 1 Axes>"
      ]
     },
     "metadata": {
      "needs_background": "light"
     },
     "output_type": "display_data"
    }
   ],
   "source": [
    "fig=plt.figure()\n",
    "ax=fig.add_axes([.1,.1,1,1])\n",
    "colors=df.anomaly\n",
    "x=df.iloc[:,2]\n",
    "y=df.iloc[:,1]\n",
    "ax.set_xlabel('net_annual_expense_ratio_fund')\n",
    "ax.set_ylabel('')\n",
    "ax.scatter(x,y,c=colors,s=121)\n",
    "plt.title(\"Isolation Forest for outliers\")"
   ]
  },
  {
   "cell_type": "code",
   "execution_count": 45,
   "metadata": {},
   "outputs": [],
   "source": [
    "from sklearn.preprocessing import StandardScaler,MinMaxScaler"
   ]
  },
  {
   "cell_type": "code",
   "execution_count": 46,
   "metadata": {},
   "outputs": [
    {
     "data": {
      "text/plain": [
       "StandardScaler(copy=True, with_mean=True, with_std=True)"
      ]
     },
     "execution_count": 46,
     "metadata": {},
     "output_type": "execute_result"
    }
   ],
   "source": [
    "scaler=StandardScaler()\n",
    "scaler.fit(df)"
   ]
  },
  {
   "cell_type": "code",
   "execution_count": 47,
   "metadata": {},
   "outputs": [],
   "source": [
    "scaled_data=scaler.transform(df)"
   ]
  },
  {
   "cell_type": "code",
   "execution_count": 48,
   "metadata": {},
   "outputs": [],
   "source": [
    "from sklearn.decomposition import PCA"
   ]
  },
  {
   "cell_type": "code",
   "execution_count": 49,
   "metadata": {},
   "outputs": [],
   "source": [
    "pca=PCA(n_components=2)"
   ]
  },
  {
   "cell_type": "code",
   "execution_count": 50,
   "metadata": {},
   "outputs": [
    {
     "data": {
      "text/plain": [
       "PCA(copy=True, iterated_power='auto', n_components=2, random_state=None,\n",
       "  svd_solver='auto', tol=0.0, whiten=False)"
      ]
     },
     "execution_count": 50,
     "metadata": {},
     "output_type": "execute_result"
    }
   ],
   "source": [
    "pca.fit(scaled_data)"
   ]
  },
  {
   "cell_type": "code",
   "execution_count": 51,
   "metadata": {},
   "outputs": [],
   "source": [
    "df_pca=pca.transform(scaled_data)"
   ]
  },
  {
   "cell_type": "code",
   "execution_count": 52,
   "metadata": {},
   "outputs": [
    {
     "data": {
      "text/plain": [
       "(425, 2)"
      ]
     },
     "execution_count": 52,
     "metadata": {},
     "output_type": "execute_result"
    }
   ],
   "source": [
    "df_pca.shape"
   ]
  },
  {
   "cell_type": "code",
   "execution_count": 54,
   "metadata": {},
   "outputs": [],
   "source": [
    "from sklearn.ensemble import IsolationForest "
   ]
  },
  {
   "cell_type": "code",
   "execution_count": 77,
   "metadata": {},
   "outputs": [],
   "source": [
    "clf=IsolationForest(n_estimators=100, max_samples='auto',contamination=.01)"
   ]
  },
  {
   "cell_type": "code",
   "execution_count": 78,
   "metadata": {},
   "outputs": [
    {
     "name": "stderr",
     "output_type": "stream",
     "text": [
      "C:\\Users\\satish\\Anaconda3\\lib\\site-packages\\scipy\\stats\\stats.py:1713: FutureWarning: Using a non-tuple sequence for multidimensional indexing is deprecated; use `arr[tuple(seq)]` instead of `arr[seq]`. In the future this will be interpreted as an array index, `arr[np.array(seq)]`, which will result either in an error or a different result.\n",
      "  return np.add.reduce(sorted[indexer] * weights, axis=axis) / sumval\n"
     ]
    }
   ],
   "source": [
    "clf.fit(df_pca)\n",
    "pred=clf.predict(df_pca)"
   ]
  },
  {
   "cell_type": "code",
   "execution_count": 79,
   "metadata": {},
   "outputs": [
    {
     "data": {
      "text/plain": [
       "array([ 1,  1,  1,  1,  1,  1,  1,  1,  1,  1,  1,  1,  1,  1,  1,  1,  1,\n",
       "        1,  1,  1,  1,  1,  1,  1,  1,  1,  1,  1,  1,  1,  1,  1,  1,  1,\n",
       "        1,  1,  1,  1,  1,  1,  1,  1,  1,  1,  1,  1,  1,  1,  1,  1,  1,\n",
       "        1,  1,  1,  1,  1,  1,  1,  1,  1,  1,  1,  1,  1,  1,  1,  1,  1,\n",
       "        1,  1,  1,  1,  1,  1,  1,  1,  1,  1,  1,  1,  1,  1,  1,  1,  1,\n",
       "        1,  1,  1,  1,  1,  1,  1,  1,  1,  1,  1,  1,  1,  1,  1,  1,  1,\n",
       "        1,  1,  1,  1,  1,  1,  1,  1,  1,  1,  1,  1,  1,  1,  1,  1,  1,\n",
       "        1,  1,  1,  1,  1,  1,  1,  1,  1,  1,  1,  1,  1,  1,  1,  1,  1,\n",
       "        1,  1,  1,  1,  1,  1,  1,  1,  1,  1,  1,  1,  1,  1,  1,  1,  1,\n",
       "        1,  1,  1,  1,  1,  1,  1,  1,  1,  1,  1,  1,  1,  1,  1,  1,  1,\n",
       "        1,  1,  1,  1,  1,  1,  1,  1,  1,  1,  1,  1,  1,  1,  1,  1,  1,\n",
       "        1,  1,  1,  1,  1,  1,  1,  1,  1,  1,  1,  1,  1,  1,  1,  1,  1,\n",
       "        1,  1,  1,  1,  1,  1,  1,  1,  1,  1,  1,  1,  1,  1,  1,  1,  1,\n",
       "        1,  1,  1,  1,  1,  1,  1,  1,  1,  1,  1,  1,  1,  1,  1,  1,  1,\n",
       "        1,  1,  1,  1,  1,  1,  1,  1,  1,  1,  1,  1,  1,  1,  1,  1,  1,\n",
       "        1,  1,  1,  1,  1,  1,  1, -1,  1, -1,  1,  1,  1,  1,  1,  1,  1,\n",
       "        1,  1,  1,  1,  1,  1,  1,  1,  1,  1,  1,  1,  1,  1,  1,  1,  1,\n",
       "        1,  1,  1,  1,  1,  1,  1,  1,  1,  1,  1,  1,  1,  1,  1,  1,  1,\n",
       "        1,  1,  1,  1,  1,  1,  1,  1,  1,  1,  1,  1,  1,  1,  1,  1,  1,\n",
       "        1,  1,  1,  1,  1,  1,  1,  1,  1,  1,  1,  1,  1,  1,  1,  1,  1,\n",
       "       -1,  1,  1,  1,  1,  1,  1,  1,  1,  1,  1,  1,  1,  1,  1,  1,  1,\n",
       "        1,  1,  1, -1,  1, -1,  1,  1,  1,  1,  1,  1,  1,  1,  1,  1,  1,\n",
       "        1,  1,  1,  1,  1,  1,  1,  1,  1,  1,  1,  1,  1,  1,  1,  1,  1,\n",
       "        1,  1,  1,  1,  1,  1,  1,  1,  1,  1,  1,  1,  1,  1,  1,  1,  1,\n",
       "        1,  1,  1,  1,  1,  1,  1,  1,  1,  1,  1,  1,  1,  1,  1,  1,  1])"
      ]
     },
     "execution_count": 79,
     "metadata": {},
     "output_type": "execute_result"
    }
   ],
   "source": [
    "pred"
   ]
  },
  {
   "cell_type": "code",
   "execution_count": 80,
   "metadata": {},
   "outputs": [
    {
     "name": "stderr",
     "output_type": "stream",
     "text": [
      "C:\\Users\\satish\\Anaconda3\\lib\\site-packages\\ipykernel_launcher.py:1: SettingWithCopyWarning: \n",
      "A value is trying to be set on a copy of a slice from a DataFrame.\n",
      "Try using .loc[row_indexer,col_indexer] = value instead\n",
      "\n",
      "See the caveats in the documentation: http://pandas.pydata.org/pandas-docs/stable/indexing.html#indexing-view-versus-copy\n",
      "  \"\"\"Entry point for launching an IPython kernel.\n"
     ]
    }
   ],
   "source": [
    "df['anomaly']=pred\n",
    "outliers=df.loc[df['anomaly']==-1]\n"
   ]
  },
  {
   "cell_type": "code",
   "execution_count": 81,
   "metadata": {},
   "outputs": [
    {
     "data": {
      "text/html": [
       "<div>\n",
       "<style scoped>\n",
       "    .dataframe tbody tr th:only-of-type {\n",
       "        vertical-align: middle;\n",
       "    }\n",
       "\n",
       "    .dataframe tbody tr th {\n",
       "        vertical-align: top;\n",
       "    }\n",
       "\n",
       "    .dataframe thead th {\n",
       "        text-align: right;\n",
       "    }\n",
       "</style>\n",
       "<table border=\"1\" class=\"dataframe\">\n",
       "  <thead>\n",
       "    <tr style=\"text-align: right;\">\n",
       "      <th></th>\n",
       "      <th>net_assets</th>\n",
       "      <th>ytd_return</th>\n",
       "      <th>fund_yield</th>\n",
       "      <th>net_annual_expense_ratio_fund</th>\n",
       "      <th>net_annual_expense_ratio_category</th>\n",
       "      <th>portfolio_stocks</th>\n",
       "      <th>portfolio_bonds</th>\n",
       "      <th>price_earnings</th>\n",
       "      <th>price_book</th>\n",
       "      <th>price_sales</th>\n",
       "      <th>...</th>\n",
       "      <th>category_sharpe_ratio_3years</th>\n",
       "      <th>fund_sharpe_ratio_5years</th>\n",
       "      <th>category_sharpe_ratio_5years</th>\n",
       "      <th>fund_sharpe_ratio_10years</th>\n",
       "      <th>category_sharpe_ratio_10years</th>\n",
       "      <th>category_treynor_ratio_3years</th>\n",
       "      <th>fund_treynor_ratio_5years</th>\n",
       "      <th>fund_treynor_ratio_10years</th>\n",
       "      <th>category_treynor_ratio_10years</th>\n",
       "      <th>anomaly</th>\n",
       "    </tr>\n",
       "  </thead>\n",
       "  <tbody>\n",
       "    <tr>\n",
       "      <th>1642</th>\n",
       "      <td>2.859000e+07</td>\n",
       "      <td>12.53</td>\n",
       "      <td>0.57</td>\n",
       "      <td>0.75</td>\n",
       "      <td>0.57</td>\n",
       "      <td>99.97</td>\n",
       "      <td>0.00</td>\n",
       "      <td>24.87</td>\n",
       "      <td>1.49</td>\n",
       "      <td>2.23</td>\n",
       "      <td>...</td>\n",
       "      <td>0.05</td>\n",
       "      <td>0.15</td>\n",
       "      <td>-0.31</td>\n",
       "      <td>0.11</td>\n",
       "      <td>0.09</td>\n",
       "      <td>-0.70</td>\n",
       "      <td>-1.43</td>\n",
       "      <td>-2.98</td>\n",
       "      <td>-6.73</td>\n",
       "      <td>-1</td>\n",
       "    </tr>\n",
       "    <tr>\n",
       "      <th>1655</th>\n",
       "      <td>3.836800e+08</td>\n",
       "      <td>28.98</td>\n",
       "      <td>0.00</td>\n",
       "      <td>0.63</td>\n",
       "      <td>0.53</td>\n",
       "      <td>99.96</td>\n",
       "      <td>0.00</td>\n",
       "      <td>33.16</td>\n",
       "      <td>6.20</td>\n",
       "      <td>5.74</td>\n",
       "      <td>...</td>\n",
       "      <td>0.86</td>\n",
       "      <td>1.20</td>\n",
       "      <td>0.95</td>\n",
       "      <td>1.23</td>\n",
       "      <td>0.48</td>\n",
       "      <td>11.90</td>\n",
       "      <td>17.31</td>\n",
       "      <td>22.21</td>\n",
       "      <td>7.70</td>\n",
       "      <td>-1</td>\n",
       "    </tr>\n",
       "    <tr>\n",
       "      <th>1946</th>\n",
       "      <td>4.290000e+09</td>\n",
       "      <td>4.25</td>\n",
       "      <td>3.07</td>\n",
       "      <td>0.07</td>\n",
       "      <td>0.17</td>\n",
       "      <td>0.00</td>\n",
       "      <td>97.92</td>\n",
       "      <td>0.00</td>\n",
       "      <td>0.00</td>\n",
       "      <td>0.00</td>\n",
       "      <td>...</td>\n",
       "      <td>1.43</td>\n",
       "      <td>0.85</td>\n",
       "      <td>1.13</td>\n",
       "      <td>1.44</td>\n",
       "      <td>0.74</td>\n",
       "      <td>4.51</td>\n",
       "      <td>2.69</td>\n",
       "      <td>5.12</td>\n",
       "      <td>2.85</td>\n",
       "      <td>-1</td>\n",
       "    </tr>\n",
       "    <tr>\n",
       "      <th>2082</th>\n",
       "      <td>3.313000e+07</td>\n",
       "      <td>-2.09</td>\n",
       "      <td>1.28</td>\n",
       "      <td>0.75</td>\n",
       "      <td>0.71</td>\n",
       "      <td>0.00</td>\n",
       "      <td>26.94</td>\n",
       "      <td>0.00</td>\n",
       "      <td>0.00</td>\n",
       "      <td>0.00</td>\n",
       "      <td>...</td>\n",
       "      <td>-0.35</td>\n",
       "      <td>-0.83</td>\n",
       "      <td>-0.16</td>\n",
       "      <td>-0.26</td>\n",
       "      <td>0.04</td>\n",
       "      <td>-0.21</td>\n",
       "      <td>0.89</td>\n",
       "      <td>-0.10</td>\n",
       "      <td>0.01</td>\n",
       "      <td>-1</td>\n",
       "    </tr>\n",
       "    <tr>\n",
       "      <th>2102</th>\n",
       "      <td>2.548800e+08</td>\n",
       "      <td>-8.29</td>\n",
       "      <td>0.00</td>\n",
       "      <td>1.30</td>\n",
       "      <td>0.81</td>\n",
       "      <td>6.37</td>\n",
       "      <td>24.21</td>\n",
       "      <td>0.00</td>\n",
       "      <td>0.00</td>\n",
       "      <td>0.00</td>\n",
       "      <td>...</td>\n",
       "      <td>-0.81</td>\n",
       "      <td>-0.54</td>\n",
       "      <td>-0.50</td>\n",
       "      <td>-0.60</td>\n",
       "      <td>-0.36</td>\n",
       "      <td>-18.06</td>\n",
       "      <td>-31.48</td>\n",
       "      <td>-44.43</td>\n",
       "      <td>-11.94</td>\n",
       "      <td>-1</td>\n",
       "    </tr>\n",
       "  </tbody>\n",
       "</table>\n",
       "<p>5 rows × 95 columns</p>\n",
       "</div>"
      ],
      "text/plain": [
       "        net_assets  ytd_return  fund_yield  net_annual_expense_ratio_fund  \\\n",
       "1642  2.859000e+07       12.53        0.57                           0.75   \n",
       "1655  3.836800e+08       28.98        0.00                           0.63   \n",
       "1946  4.290000e+09        4.25        3.07                           0.07   \n",
       "2082  3.313000e+07       -2.09        1.28                           0.75   \n",
       "2102  2.548800e+08       -8.29        0.00                           1.30   \n",
       "\n",
       "      net_annual_expense_ratio_category  portfolio_stocks  portfolio_bonds  \\\n",
       "1642                               0.57             99.97             0.00   \n",
       "1655                               0.53             99.96             0.00   \n",
       "1946                               0.17              0.00            97.92   \n",
       "2082                               0.71              0.00            26.94   \n",
       "2102                               0.81              6.37            24.21   \n",
       "\n",
       "      price_earnings  price_book  price_sales   ...     \\\n",
       "1642           24.87        1.49         2.23   ...      \n",
       "1655           33.16        6.20         5.74   ...      \n",
       "1946            0.00        0.00         0.00   ...      \n",
       "2082            0.00        0.00         0.00   ...      \n",
       "2102            0.00        0.00         0.00   ...      \n",
       "\n",
       "      category_sharpe_ratio_3years  fund_sharpe_ratio_5years  \\\n",
       "1642                          0.05                      0.15   \n",
       "1655                          0.86                      1.20   \n",
       "1946                          1.43                      0.85   \n",
       "2082                         -0.35                     -0.83   \n",
       "2102                         -0.81                     -0.54   \n",
       "\n",
       "      category_sharpe_ratio_5years  fund_sharpe_ratio_10years  \\\n",
       "1642                         -0.31                       0.11   \n",
       "1655                          0.95                       1.23   \n",
       "1946                          1.13                       1.44   \n",
       "2082                         -0.16                      -0.26   \n",
       "2102                         -0.50                      -0.60   \n",
       "\n",
       "      category_sharpe_ratio_10years  category_treynor_ratio_3years  \\\n",
       "1642                           0.09                          -0.70   \n",
       "1655                           0.48                          11.90   \n",
       "1946                           0.74                           4.51   \n",
       "2082                           0.04                          -0.21   \n",
       "2102                          -0.36                         -18.06   \n",
       "\n",
       "      fund_treynor_ratio_5years  fund_treynor_ratio_10years  \\\n",
       "1642                      -1.43                       -2.98   \n",
       "1655                      17.31                       22.21   \n",
       "1946                       2.69                        5.12   \n",
       "2082                       0.89                       -0.10   \n",
       "2102                     -31.48                      -44.43   \n",
       "\n",
       "      category_treynor_ratio_10years  anomaly  \n",
       "1642                           -6.73       -1  \n",
       "1655                            7.70       -1  \n",
       "1946                            2.85       -1  \n",
       "2082                            0.01       -1  \n",
       "2102                          -11.94       -1  \n",
       "\n",
       "[5 rows x 95 columns]"
      ]
     },
     "execution_count": 81,
     "metadata": {},
     "output_type": "execute_result"
    }
   ],
   "source": [
    "outliers"
   ]
  },
  {
   "cell_type": "code",
   "execution_count": 82,
   "metadata": {},
   "outputs": [
    {
     "data": {
      "text/plain": [
       "Text(0.5,1,'Outliers using PCA')"
      ]
     },
     "execution_count": 82,
     "metadata": {},
     "output_type": "execute_result"
    },
    {
     "data": {
      "image/png": "[encoded data removed]",
      "text/plain": [
       "<Figure size 432x288 with 1 Axes>"
      ]
     },
     "metadata": {
      "needs_background": "light"
     },
     "output_type": "display_data"
    }
   ],
   "source": [
    "fig=plt.figure()\n",
    "ax=fig.add_axes([.1,.1,1,1])\n",
    "colors=df.anomaly\n",
    "\n",
    "x=df_pca[:,0]\n",
    "y=df_pca[:,1]\n",
    "ax.set_xlabel('First PCA')\n",
    "ax.set_ylabel('second PCA')\n",
    "ax.scatter(x,y,c=colors,s=120)\n",
    "plt.title('Outliers using PCA')"
   ]
  },
  {
   "cell_type": "code",
   "execution_count": null,
   "metadata": {},
   "outputs": [],
   "source": []
  },
  {
   "cell_type": "code",
   "execution_count": null,
   "metadata": {},
   "outputs": [],
   "source": []
  }
 ],
 "metadata": {
  "kernelspec": {
   "display_name": "Python 3",
   "language": "python",
   "name": "python3"
  },
  "language_info": {
   "codemirror_mode": {
    "name": "ipython",
    "version": 3
   },
   "file_extension": ".py",
   "mimetype": "text/x-python",
   "name": "python",
   "nbconvert_exporter": "python",
   "pygments_lexer": "ipython3",
   "version": "3.7.0"
  }
 },
 "nbformat": 4,
 "nbformat_minor": 2
}
